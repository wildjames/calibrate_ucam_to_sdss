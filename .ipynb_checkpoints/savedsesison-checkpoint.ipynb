{
 "cells": [
  {
   "cell_type": "code",
   "execution_count": null,
   "metadata": {},
   "outputs": [],
   "source": []
  },
  {
   "cell_type": "markdown",
   "metadata": {},
   "source": [
    "First, load in a test case"
   ]
  },
  {
   "cell_type": "code",
   "execution_count": 6,
   "metadata": {},
   "outputs": [],
   "source": [
    "corr_g = np.genfromtxt(\"LIGHTCURVES/ASASSN-17jf_g.calib\").T"
   ]
  },
  {
   "cell_type": "code",
   "execution_count": 7,
   "metadata": {},
   "outputs": [],
   "source": [
    "corr_g.shape"
   ]
  },
  {
   "cell_type": "code",
   "execution_count": 8,
   "metadata": {},
   "outputs": [],
   "source": [
    "corr_g[0][0]"
   ]
  },
  {
   "cell_type": "code",
   "execution_count": 9,
   "metadata": {},
   "outputs": [],
   "source": [
    "corr_g[0][-1]"
   ]
  },
  {
   "cell_type": "code",
   "execution_count": 10,
   "metadata": {},
   "outputs": [],
   "source": [
    "raw_g = np.genfromtxt(\"ASASSN-17jf/CALIBRATION_STUDIES/USING_SMITH_STANDARD/MCMC_LIGHTCURVES/ASASSN-17jf_ucam_2019-09-28@02h52m_g.calib\").T"
   ]
  },
  {
   "cell_type": "markdown",
   "metadata": {},
   "source": [
    "And lets plot it, to see what kind of changes we're looking at"
   ]
  },
  {
   "cell_type": "code",
   "execution_count": 15,
   "metadata": {},
   "outputs": [],
   "source": [
    "fig, ax = plt.subplots()"
   ]
  },
  {
   "cell_type": "code",
   "execution_count": 16,
   "metadata": {},
   "outputs": [],
   "source": [
    "ax.step(corr_g[0], corr_g[1], color='red', label='Colour term applied')"
   ]
  },
  {
   "cell_type": "code",
   "execution_count": 17,
   "metadata": {},
   "outputs": [],
   "source": [
    "ax.step(raw_g[0], raw_g[1], color='black', label='Using Smith, no corrections')"
   ]
  },
  {
   "cell_type": "code",
   "execution_count": 18,
   "metadata": {},
   "outputs": [],
   "source": [
    "ax.legend()"
   ]
  },
  {
   "cell_type": "code",
   "execution_count": 19,
   "metadata": {},
   "outputs": [],
   "source": [
    "plt.show()"
   ]
  },
  {
   "cell_type": "code",
   "execution_count": 25,
   "metadata": {},
   "outputs": [],
   "source": [
    "for band in ['u', 'g', 'r']:\n",
    "    corr = np.genfromtxt(\"LIGHTCURVES/ASASSN-17jf_{}.calib\".format(band)).T\n",
    "    uncorr = np.genfromtxt(\"ASASSN-17jf/CALIBRATION_STUDIES/USING_SMITH_STANDARD/MCMC_LIGHTCURVES/ASASSN-17jf_ucam_2019-09-28@02h52m_{}.calib\".format(band)).T\n",
    "    fig, ax = plt.subplots(figsize=(10,6))\n",
    "    ax.step(corr[0], corr[1], color='red', label='Colour term applied')\n",
    "    ax.step(uncorr[0], uncorr[1], color='black', label='Using Smith, no corrections')\n",
    "    ax.legend()\n",
    "    ax.set_title(\"ASASSN-17jf {} band with and without colour term corrections\".format(band))\n",
    "    ax.set_ylabel(\"Flux, mJy\")\n",
    "    ax.set_xlabel(\"Phase\")\n",
    "    plt.savefig(\"ASASSN-17jf_{}_uncorr_vs_corr.pdf\".format(band))\n",
    "    plt.close()\n",
    "    "
   ]
  },
  {
   "cell_type": "code",
   "execution_count": 36,
   "metadata": {},
   "outputs": [],
   "source": [
    "chain = np.genfromtxt(\"MCMCFIT/chain_prod.txt\", skip_header=1)"
   ]
  },
  {
   "cell_type": "code",
   "execution_count": 37,
   "metadata": {},
   "outputs": [],
   "source": [
    "chain.shape"
   ]
  },
  {
   "cell_type": "code",
   "execution_count": 39,
   "metadata": {},
   "outputs": [],
   "source": [
    "chain.mean(axis=0)"
   ]
  },
  {
   "cell_type": "code",
   "execution_count": 40,
   "metadata": {},
   "outputs": [],
   "source": [
    "!head -1 MCMCFIT/chain_prod.txt"
   ]
  },
  {
   "cell_type": "code",
   "execution_count": 43,
   "metadata": {},
   "outputs": [],
   "source": [
    "wdFlux_g = chain.mean(axis=0)[4]"
   ]
  },
  {
   "cell_type": "code",
   "execution_count": 44,
   "metadata": {},
   "outputs": [],
   "source": [
    "wdFlux_r = chain.mean(axis=0)[8]"
   ]
  },
  {
   "cell_type": "code",
   "execution_count": 45,
   "metadata": {},
   "outputs": [],
   "source": [
    "wdFlux_u = chain.mean(axis=0)[12]"
   ]
  },
  {
   "cell_type": "code",
   "execution_count": 48,
   "metadata": {},
   "outputs": [],
   "source": [
    "def sdss_flux2mag(flx):\n",
    "    '''Takes an flux in mJy and converts it to an SDSS magnitude'''\n",
    "    alpha = 3631e3\n",
    "\n",
    "    m = -2.5 * np.log10(flx)\n",
    "    m += 2.5 * np.log10(alpha)\n",
    "\n",
    "    return m\n",
    "    "
   ]
  },
  {
   "cell_type": "code",
   "execution_count": 49,
   "metadata": {},
   "outputs": [],
   "source": [
    "wdMag_g = sdss_flux2mag(wdFlux_g)"
   ]
  },
  {
   "cell_type": "code",
   "execution_count": 50,
   "metadata": {},
   "outputs": [],
   "source": [
    "wdMag_r = sdss_flux2mag(wdFlux_r)"
   ]
  },
  {
   "cell_type": "code",
   "execution_count": 51,
   "metadata": {},
   "outputs": [],
   "source": [
    "wdMag_u = sdss_flux2mag(wdFlux_u)"
   ]
  },
  {
   "cell_type": "code",
   "execution_count": 52,
   "metadata": {},
   "outputs": [],
   "source": [
    "wdMag_g"
   ]
  },
  {
   "cell_type": "code",
   "execution_count": 53,
   "metadata": {},
   "outputs": [],
   "source": [
    "wdMag_r"
   ]
  },
  {
   "cell_type": "code",
   "execution_count": 54,
   "metadata": {},
   "outputs": [],
   "source": [
    "wdMag_u"
   ]
  },
  {
   "cell_type": "code",
   "execution_count": 55,
   "metadata": {},
   "outputs": [],
   "source": [
    "gr = wdMag_g - wdMag_r"
   ]
  },
  {
   "cell_type": "code",
   "execution_count": 56,
   "metadata": {},
   "outputs": [],
   "source": [
    "ug = wdMag_u - wdMag_g"
   ]
  },
  {
   "cell_type": "code",
   "execution_count": 57,
   "metadata": {},
   "outputs": [],
   "source": [
    "gr"
   ]
  },
  {
   "cell_type": "code",
   "execution_count": 58,
   "metadata": {},
   "outputs": [],
   "source": [
    "ug"
   ]
  }
 ],
 "metadata": {
  "kernelspec": {
   "display_name": "Python 3",
   "language": "python",
   "name": "python3"
  },
  "language_info": {
   "codemirror_mode": {
    "name": "ipython",
    "version": 3
   },
   "file_extension": ".py",
   "mimetype": "text/x-python",
   "name": "python",
   "nbconvert_exporter": "python",
   "pygments_lexer": "ipython3",
   "version": "3.7.3"
  }
 },
 "nbformat": 4,
 "nbformat_minor": 4
}
